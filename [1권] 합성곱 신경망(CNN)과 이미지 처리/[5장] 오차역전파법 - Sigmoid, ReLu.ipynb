{
 "cells": [
  {
   "cell_type": "markdown",
   "metadata": {},
   "source": [
    "- 참고 링크\n",
    "\n",
    "    - https://nbviewer.jupyter.org/github/SDRLurker/deep-learning/blob/master/5%E1%84%8C%E1%85%A1%E1%86%BC.ipynb<br>\n",
    "밑바닥부터 시작하는 딥러닝1 책을 정리해놓은 위 링크를 참고\n",
    "\n",
    "    - https://cs231n.github.io/convolutional-networks<br>\n"
   ]
  },
  {
   "cell_type": "markdown",
   "metadata": {},
   "source": [
    "![](img/apple_forward1.png)\n",
    "- 위 그림은 계산그래프를 활용한 왼쪽에서 오른쪽으로 진행하는 단계인 순전파 __forward propagation__\n",
    "- 순전파는 계산 그래프의 출발점부터 종착점으로의 전파이다.\n",
    "- 오른쪽에서 왼쪽으로의 전파는 __역전파__이며, 이에 대한 공부를 진행하겠다.\n",
    "- 역전파는 이후, __미분을 계산할 때 중요한 역할을 한다.__"
   ]
  },
  {
   "cell_type": "markdown",
   "metadata": {},
   "source": [
    "# 5. 오차역전파법\n",
    "- 오차역전파법(backpropagation) : 가중치 매개변수의 기울기를 효율적으로 계산<br><br>\n",
    "오차를 역(반대 방향)으로 전파하는 방법(backward propagation of errors)"
   ]
  },
  {
   "cell_type": "markdown",
   "metadata": {},
   "source": [
    "##### 연쇄법칙(chain-rule) 이란?\n",
    "연쇄 법칙, 즉 체인 룰이란 합성함수의 도함수에 대한 기본 공식이다.<br>\n",
    "역전파(back propagation)에서 나타나는 합성함수의 편미분은 일일이 계산할 필요 없이 체인룰을 통해 간단히 계산 가능하다."
   ]
  },
  {
   "cell_type": "markdown",
   "metadata": {},
   "source": [
    "### 5.3 역전파\n",
    "##### 5.3.1 덧셈 노드의 역전파\n",
    "[단순한 편미분 활용] <br>\n",
    "$z = x + y$ 의 미분. 다음은 해석적으로 계산\n",
    "\n",
    "$$\\frac{\\partial z}{\\partial x} = 1$$\n",
    "$$\\frac{\\partial z}{\\partial y} = 1$$\n",
    "덧셈 노드의 역전파는 1을 곱하기만 할 뿐, 입력된 값을 그대로 다음 노드로 보내게 됨\n",
    "\n",
    "##### 5.3.2 곱셈 노드의 역전파\n",
    "$z = xy$의 미분\n",
    "\n",
    "$$\\frac{\\partial z}{\\partial x} = y$$\n",
    "$$\\frac{\\partial z}{\\partial y} = x$$\n",
    "곱셈 노드의 역전파는 상류의 값에 순전파 때의 입력 신호들을 '서로 바꾼 값'을 곱해서 하류로 보냄<br>\n",
    "- 순전파 때 x 였다면, 역전파에서는 y <br>\n",
    "- 순전파 때 y 였다면, 역전파에서는 x"
   ]
  },
  {
   "cell_type": "markdown",
   "metadata": {},
   "source": [
    "## 5.4 단순한 계층 구현하기\n",
    "계산 그래프의 곱셈 노드를 'MultiLayer', 덧셈 노드를 'AddLayer'로 구현\n",
    "\n",
    "##### 5.4.1 곱셈 계층\n",
    "> 다음 절에서는 신경망을 구성하는 계층 각각을 하나의 클래스로 구현한다. <br><br>\n",
    "여기서의 계층이란, 신경망의 기능 단위이다.\n",
    "\n",
    "모든 계층은 __forward() 순전파, backward() 역전파__ 라는 공통의 메서드(인터페이스)를 갖도록 구현\n",
    "\n",
    "곱셈 계층을 __MultiLayer__클래스로 다음처럼 구현"
   ]
  },
  {
   "cell_type": "code",
   "execution_count": 9,
   "metadata": {},
   "outputs": [],
   "source": [
    "# https://github.com/WegraLee/deep-learning-from-scratch/blob/master/ch05/layer_naive.py 소스 참고\n",
    "class MulLayer:\n",
    "    def __init__(self):\n",
    "        self.x = None\n",
    "        self.y = None\n",
    "        \n",
    "    def forward(self, x, y):\n",
    "        self.x = x\n",
    "        self.y = y\n",
    "        out = x * y\n",
    "        \n",
    "        return out\n",
    "    \n",
    "    def backward(self, dout):\n",
    "        dx = dout * self.y # x와 y를 바꾼다\n",
    "        dy = dout * self.x\n",
    "        \n",
    "        return dx, dy"
   ]
  },
  {
   "cell_type": "markdown",
   "metadata": {},
   "source": [
    "## __책에 나온 사과 예제 활용__"
   ]
  },
  {
   "cell_type": "code",
   "execution_count": 10,
   "metadata": {},
   "outputs": [
    {
     "name": "stdout",
     "output_type": "stream",
     "text": [
      "220.00000000000003\n"
     ]
    }
   ],
   "source": [
    "# https://github.com/WegraLee/deep-learning-from-scratch/blob/master/ch05/buy_apple.py 소스 참고\n",
    "apple = 100\n",
    "apple_num = 2\n",
    "tax = 1.1\n",
    "\n",
    "# 계층들\n",
    "mul_apple_layer = MulLayer()\n",
    "mul_tax_layer = MulLayer()\n",
    "\n",
    "# 순전파\n",
    "apple_price = mul_apple_layer.forward(apple, apple_num)\n",
    "price = mul_tax_layer.forward(apple_price, tax)\n",
    "\n",
    "print(price)"
   ]
  },
  {
   "cell_type": "markdown",
   "metadata": {},
   "source": [
    "__각 변수에 대한 미분은 backward()로 구할 수 있다.__"
   ]
  },
  {
   "cell_type": "code",
   "execution_count": 11,
   "metadata": {},
   "outputs": [
    {
     "name": "stdout",
     "output_type": "stream",
     "text": [
      "2.2 110.00000000000001 200\n"
     ]
    }
   ],
   "source": [
    "dprice = 1\n",
    "dapple_price, dtax = mul_tax_layer.backward(dprice)\n",
    "dapple, dapple_num = mul_apple_layer.backward(dapple_price)\n",
    "\n",
    "print(dapple, dapple_num, dtax) # 2.2 110 200"
   ]
  },
  {
   "cell_type": "markdown",
   "metadata": {},
   "source": [
    "![](img/5-4-1.png)"
   ]
  },
  {
   "cell_type": "markdown",
   "metadata": {},
   "source": [
    "> backward() 호출 순서는 forward() 때와 반대<br><br>\n",
    "backward()가 받는 인수는 __순전파의 출력에 대한 미분__"
   ]
  },
  {
   "cell_type": "markdown",
   "metadata": {},
   "source": [
    "##### 5.4.2 덧셈 계층\n",
    "덧셈 계층을 __MultiLayer__ 클래스\n",
    "- 위에서 언급했듯이, 덧셈 계층에서는 미분을 해도 값이 그대로이므로 , 상류에서 넘어온 미분(dout)을 그대로 하류로 흘림"
   ]
  },
  {
   "cell_type": "code",
   "execution_count": 15,
   "metadata": {},
   "outputs": [],
   "source": [
    "class AddLayer:\n",
    "    def __init__(self):\n",
    "        pass\n",
    "    \n",
    "    def forward(self, x, y):\n",
    "        out = x + y\n",
    "        return out\n",
    "    \n",
    "    def backward(self, dout):\n",
    "        dx = dout * 1\n",
    "        dy = dout * 1\n",
    "        return dx, dy"
   ]
  },
  {
   "cell_type": "code",
   "execution_count": 16,
   "metadata": {},
   "outputs": [
    {
     "name": "stdout",
     "output_type": "stream",
     "text": [
      "price: 715\n",
      "dApple: 2.2\n",
      "dApple_num: 110\n",
      "dOrange: 3.3000000000000003\n",
      "dOrange_num: 165\n",
      "dTax: 650\n"
     ]
    }
   ],
   "source": [
    "# https://github.com/WegraLee/deep-learning-from-scratch/blob/master/ch05/buy_apple.py 소스 참고\n",
    "apple = 100\n",
    "apple_num = 2\n",
    "orange = 150\n",
    "orange_num = 3\n",
    "tax = 1.1\n",
    "\n",
    "# 계층들\n",
    "mul_apple_layer = MulLayer()\n",
    "mul_orange_layer = MulLayer()\n",
    "add_apple_orange_layer = AddLayer()\n",
    "mul_tax_layer = MulLayer()\n",
    "\n",
    "# 순전파\n",
    "apple_price = mul_apple_layer.forward(apple, apple_num)  # (1)\n",
    "orange_price = mul_orange_layer.forward(orange, orange_num)  # (2)\n",
    "all_price = add_apple_orange_layer.forward(apple_price, orange_price)  # (3)\n",
    "price = mul_tax_layer.forward(all_price, tax)  # (4)\n",
    "\n",
    "# 역전파\n",
    "dprice = 1\n",
    "dall_price, dtax = mul_tax_layer.backward(dprice)  # (4)\n",
    "dapple_price, dorange_price = add_apple_orange_layer.backward(dall_price)  # (3)\n",
    "dorange, dorange_num = mul_orange_layer.backward(dorange_price)  # (2)\n",
    "dapple, dapple_num = mul_apple_layer.backward(dapple_price)  # (1)\n",
    "\n",
    "print(\"price:\", int(price)) # 715\n",
    "print(\"dApple:\", dapple) # 2.2\n",
    "print(\"dApple_num:\", int(dapple_num)) # 110\n",
    "print(\"dOrange:\", dorange) # 3.3\n",
    "print(\"dOrange_num:\", int(dorange_num)) # 165\n",
    "print(\"dTax:\", dtax) # 650"
   ]
  },
  {
   "cell_type": "markdown",
   "metadata": {},
   "source": [
    "![](img/5-4-2.png)"
   ]
  },
  {
   "cell_type": "markdown",
   "metadata": {},
   "source": [
    "## 5.5 활성하 함수 계층 구현하기\n",
    "활성화 함수인 __ReLU__와 __Sigmoid__ 계층을 구현\n",
    "\n",
    "##### 5.5.1 ReLU 계층<br>\n",
    "__식 5.7 ReLU 식__\n",
    "$$y = x(x > 0)$$\n",
    "$$y = 0(x <= 0$$\n",
    "\n",
    "__식 5.8 ReLu x에 대한 y 미분 식__\n",
    "$$\\frac{\\partial y}{\\partial x} = 1 (x > 0)$$\n",
    "$$\\frac{\\partial y}{\\partial x} = 0 (x <= 0)$$\n",
    "\n",
    "> 순전파 때 입력인 $x$가 0보다 크면 역전파는 상류의 값을 그대로 하류로 흘림<br><br>\n",
    "순전파 때 $x$가 0 이하면 역전파 때는 하류로 신호를 보내지 않음\n",
    "\n",
    "\n",
    "##### ReLU 계층을 구현한 코드"
   ]
  },
  {
   "cell_type": "code",
   "execution_count": 20,
   "metadata": {},
   "outputs": [],
   "source": [
    "# https://github.com/WegraLee/deep-learning-from-scratch/blob/master/common/layers.py 소스 참고\n",
    "class Relu:\n",
    "    def __init__(self):\n",
    "        self.mask = None\n",
    "        \n",
    "    def forawrd(self, x):\n",
    "        self.mask = (x <= 0)\n",
    "        out = x.copy()\n",
    "        out[self.mask] = 0\n",
    "    \n",
    "    def backward(self, dout):\n",
    "        dout[self.mask] = 0\n",
    "        dx = dout\n",
    "        \n",
    "        return dx"
   ]
  },
  {
   "cell_type": "markdown",
   "metadata": {},
   "source": [
    "Relu 클래스는 mask 인스턴스 변수를 가짐 <br>\n",
    "mask는 순전파의 입력인 x의 원소 값이 0 이하인 인덱스는 True, 그 외 (0보다 큰 원소)는 False로 유지"
   ]
  },
  {
   "cell_type": "code",
   "execution_count": 45,
   "metadata": {},
   "outputs": [
    {
     "data": {
      "image/png": "[encoded data removed]",
      "text/plain": [
       "<Figure size 432x288 with 1 Axes>"
      ]
     },
     "metadata": {
      "needs_background": "light"
     },
     "output_type": "display_data"
    },
    {
     "data": {
      "image/png": "[encoded data removed]",
      "text/plain": [
       "<Figure size 432x288 with 1 Axes>"
      ]
     },
     "metadata": {
      "needs_background": "light"
     },
     "output_type": "display_data"
    }
   ],
   "source": [
    "import random\n",
    "import numpy as np\n",
    "\n",
    "\n",
    "#랜덤으로 1000개 생성하여 확인\n",
    "x = np.array([random.uniform(-100, 100) for i in range(1000)])\n",
    "\n",
    "plt.plot(sorted(x))\n",
    "plt.title('before Relu')\n",
    "plt.show()\n",
    "\n",
    "mask = (x <= 0)\n",
    "out = x.copy()\n",
    "out[mask] = 0\n",
    "\n",
    "\n",
    "import matplotlib.pyplot as plt\n",
    "plt.plot(sorted(out))\n",
    "plt.title('after relu')\n",
    "plt.show()"
   ]
  },
  {
   "cell_type": "markdown",
   "metadata": {},
   "source": [
    "##### 5.5.2 Sigmoid 계층\n",
    "__식 5.9 시그모이드 함수__\n",
    "$$\n",
    "y = \\frac{1}{1 + exp(-x)}\n",
    "$$\n",
    "__식 5.10 은 위 시그모이드 함수를 y = 1/x__\n",
    "$$\n",
    "\\frac{\\partial y}{\\partial x} = 1 (x > 0)\n",
    "$$\n",
    "\n",
    "- __위 식을 계산그래프로 그래면 아래와 같다.__\n",
    "![](img/sigmoid1.png)\n",
    "\n",
    "__exp__와 __/__ 노드가 새롭게 등장했다.<br>\n",
    "__exp__ 노드는 __y = exp(x)__ 계산을 수행하고<br>\n",
    "__/__ 노드는 __y = 1/x__ 계산을 수행한다.\n",
    "\n",
    "__STEP01 :__ <br>\n",
    "__/__ 노드를 미분하면 다음 식이 된다.\n",
    "$$\n",
    "\\frac{\\partial y}{\\partial x} = -\\frac{1}{x^2} = -y^2\n",
    "$$\n",
    "__계산 그래프에서는 아래와 같다.__\n",
    "![](img/sigmoid2.png)\n",
    "\n",
    "__STEP02 :__ <br>\n",
    "__+__ 노드는 위에서 5.4.2 덧셈계층에서 언급되었듯이, 상류의 값을 여과 없이 하류로 보내면 끝<br>\n",
    "__계산 그래프에서는 아래와 같다.__\n",
    "![](img/sigmoid3.png)\n",
    "\n",
    "__STEP03 :__<br>\n",
    "exp 노드의 미분은 다음과 같다.\n",
    "$$\n",
    "\\frac{\\partial y}{\\partial x} = exp(x)\n",
    "$$\n",
    "계산 그래프는 아래와 같다.\n",
    "![](img/sigmoid4.png)\n",
    "\n",
    "__STEP04 :__ <br>\n",
    "__x__ 노드는 순전파 때의 값을 서로 바꿔 곱한다.\n",
    "계산 그래프는 아래와 같다.\n",
    "![](img/sigmoid5.png)\n",
    "\n",
    "__※ 결국, 계산 그래프의 중간 과정을 모두 묶어 아래와 같은 단순한 sigmoid 노드 하나로 대체할 수 있다.__\n",
    "![](img/sigmoid6.png)\n",
    "\n",
    "> 계산 그래프의 간소화 버전은 역전파 과정의 중간 계산들을 생략할 수 있어 더 효율적인 계산이라 할 수 있다.<br>\n",
    "또 노드를 그룹화하여 Sigmoid 계층의 세세한 내용을 노출하지 않고<br>\n",
    "__입력과 출력에만 집중할 수 있다는 것도 중요한 포인트이다.__\n",
    "\n",
    "최종적인 식은 아래와 같이 정리할 수 있다.\n",
    "![](img/sigmoid7.png)\n",
    "\n",
    "__이처럼 Sigmoid 계층의 역전파는 순전파의 출력 $y$ 만으로 계산할 수 있다.__\n",
    "![](img/sigmoid8.png)"
   ]
  },
  {
   "cell_type": "markdown",
   "metadata": {},
   "source": [
    "__Sigmoid 계층을 파이썬으로 구현__"
   ]
  },
  {
   "cell_type": "code",
   "execution_count": 46,
   "metadata": {},
   "outputs": [],
   "source": [
    "class Sigmoid:\n",
    "    def __init__(self):\n",
    "        self.out = None\n",
    "        \n",
    "    def forward(self, x):\n",
    "        out = 1 / (1 + np.exp(-x))\n",
    "        self.out = out\n",
    "        \n",
    "        return out\n",
    "    \n",
    "    def backward(self, dout):\n",
    "        dx = dout * (1.0 - self.out) * self.out\n",
    "        \n",
    "        return dx"
   ]
  },
  {
   "cell_type": "code",
   "execution_count": null,
   "metadata": {},
   "outputs": [],
   "source": []
  }
 ],
 "metadata": {
  "kernelspec": {
   "display_name": "Python 3",
   "language": "python",
   "name": "python3"
  },
  "language_info": {
   "codemirror_mode": {
    "name": "ipython",
    "version": 3
   },
   "file_extension": ".py",
   "mimetype": "text/x-python",
   "name": "python",
   "nbconvert_exporter": "python",
   "pygments_lexer": "ipython3",
   "version": "3.8.5"
  }
 },
 "nbformat": 4,
 "nbformat_minor": 4
}
