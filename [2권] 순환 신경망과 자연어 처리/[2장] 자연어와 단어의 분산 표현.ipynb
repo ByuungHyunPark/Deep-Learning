{
 "cells": [
  {
   "cell_type": "markdown",
   "metadata": {},
   "source": [
    "## 2.1자연어 처리(NLP - Natural Language Processing)\n",
    "- 자연어(Natural Language) : 인간의 언어\n",
    "- 자연어 처리 - 자연어를 처리하는 분야\n",
    "- 인간의 말을 컴퓨터에게 이해시키기 위한 기술\n",
    "\n",
    "##### 2.1.1 단어의 의미\n",
    "- 단어 : 의미의 최소 단위"
   ]
  },
  {
   "cell_type": "code",
   "execution_count": null,
   "metadata": {},
   "outputs": [],
   "source": []
  }
 ],
 "metadata": {
  "kernelspec": {
   "display_name": "Python 3",
   "language": "python",
   "name": "python3"
  },
  "language_info": {
   "codemirror_mode": {
    "name": "ipython",
    "version": 3
   },
   "file_extension": ".py",
   "mimetype": "text/x-python",
   "name": "python",
   "nbconvert_exporter": "python",
   "pygments_lexer": "ipython3",
   "version": "3.8.5"
  }
 },
 "nbformat": 4,
 "nbformat_minor": 4
}
