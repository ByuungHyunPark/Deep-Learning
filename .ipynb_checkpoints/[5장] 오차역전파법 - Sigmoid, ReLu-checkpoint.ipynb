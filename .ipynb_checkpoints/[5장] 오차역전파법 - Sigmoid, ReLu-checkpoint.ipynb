{
 "cells": [
  {
   "cell_type": "markdown",
   "metadata": {},
   "source": [
    "- 참고 링크\n",
    "\n",
    "    - https://nbviewer.jupyter.org/github/SDRLurker/deep-learning/blob/master/5%E1%84%8C%E1%85%A1%E1%86%BC.ipynb<br>\n",
    "밑바닥부터 시작하는 딥러닝1 책을 정리해놓은 위 링크를 참고\n",
    "\n",
    "    - https://cs231n.github.io/convolutional-networks<br>\n"
   ]
  },
  {
   "cell_type": "markdown",
   "metadata": {},
   "source": [
    "![](img/apple_forward1.png)\n",
    "- 위 그림은 계산그래프를 활용한 왼쪽에서 오른쪽으로 진행하는 단계인 순전파 __forward propagation__\n",
    "- 순전파는 계산 그래프의 출발점부터 종착점으로의 전파이다.\n",
    "- 오른쪽에서 왼쪽으로의 전파는 __역전파__이며, 이에 대한 공부를 진행하겠다.\n",
    "- 역전파는 이후, __미분을 계산할 때 중요한 역할을 한다.__"
   ]
  },
  {
   "cell_type": "markdown",
   "metadata": {},
   "source": [
    "# 5. 오차역전파법\n",
    "- 오차역전파법(backpropagation) : 가중치 매개변수의 기울기를 효율적으로 계산<br><br>\n",
    "오차를 역(반대 방향)으로 전파하는 방법(backward propagation of errors)"
   ]
  },
  {
   "cell_type": "markdown",
   "metadata": {},
   "source": [
    "##### 연쇄법칙(chain-rule) 이란?\n",
    "연쇄 법칙, 즉 체인 룰이란 합성함수의 도함수에 대한 기본 공식이다.<br>\n",
    "역전파(back propagation)에서 나타나는 합성함수의 편미분은 일일이 계산할 필요 없이 체인룰을 통해 간단히 계산 가능하다."
   ]
  },
  {
   "cell_type": "markdown",
   "metadata": {},
   "source": [
    "### 5.3 역전파\n",
    "##### 5.3.1 덧셈 노드의 역전파\n",
    "[단순한 편미분 활용] <br>\n",
    "$z = x + y$ 의 미분. 다음은 해석적으로 계산\n",
    "\n",
    "$$\\frac{\\partial z}{\\partial x} = 1$$\n",
    "$$\\frac{\\partial z}{\\partial y} = 1$$\n",
    "덧셈 노드의 역전파는 1을 곱하기만 할 뿐, 입력된 값을 그대로 다음 노드로 보내게 됨\n",
    "\n",
    "##### 5.3.2 곱셈 노드의 역전파\n",
    "$z = xy$의 미분\n",
    "\n",
    "$$\\frac{\\partial z}{\\partial x} = y$$\n",
    "$$\\frac{\\partial z}{\\partial y} = x$$\n",
    "곱셈 노드의 역전파는 상류의 값에 순전파 때의 입력 신호들을 '서로 바꾼 값'을 곱해서 하류로 보냄<br>\n",
    "- 순전파 때 x 였다면, 역전파에서는 y <br>\n",
    "- 순전파 때 y 였다면, 역전파에서는 x"
   ]
  },
  {
   "cell_type": "markdown",
   "metadata": {},
   "source": [
    "## 5.4 단순한 계층 구현하기\n",
    "계산 그래프의 곱셈 노드를 'MultiLayer', 덧셈 노드를 'AddLayer'로 구현\n",
    "\n",
    "##### 5.4.1 곱셈 계층\n",
    "> 다음 절에서는 신경망을 구성하는 계층 각각을 하나의 클래스로 구현한다. <br><br>\n",
    "여기서의 계층이란, 신경망의 기능 단위이다.\n",
    "\n",
    "모든 계층은 __forward() 순전파, backward() 역전파__ 라는 공통의 메서드(인터페이스)를 갖도록 구현\n",
    "\n",
    "곱셈 계층을 __MultiLayer__클래스로 다음처럼 구현"
   ]
  },
  {
   "cell_type": "code",
   "execution_count": 1,
   "metadata": {},
   "outputs": [],
   "source": [
    "# https://github.com/WegraLee/deep-learning-from-scratch/blob/master/ch05/layer_naive.py 소스 참고\n",
    "class MulLayer:\n",
    "    def __init__(self):\n",
    "        self.x = None\n",
    "        self.y = None\n",
    "        \n",
    "    def forward(self, x, y):\n",
    "        self.x = x\n",
    "        self.y = y\n",
    "        out = x * y\n",
    "        \n",
    "        return out\n",
    "    \n",
    "    def backward(self, dbout):\n",
    "        dx = dout * self.y # x와 y를 바꾼다\n",
    "        dy = dout * self.x\n",
    "        \n",
    "        return dx, dy"
   ]
  },
  {
   "cell_type": "markdown",
   "metadata": {},
   "source": [
    "## __책에 나온 사과 예제 활용__"
   ]
  },
  {
   "cell_type": "code",
   "execution_count": 2,
   "metadata": {},
   "outputs": [
    {
     "name": "stdout",
     "output_type": "stream",
     "text": [
      "220.00000000000003\n"
     ]
    }
   ],
   "source": [
    "# https://github.com/WegraLee/deep-learning-from-scratch/blob/master/ch05/buy_apple.py 소스 참고\n",
    "apple = 100\n",
    "apple_num = 2\n",
    "tax = 1.1\n",
    "\n",
    "# 계층들\n",
    "mul_apple_layer = MulLayer()\n",
    "mul_tax_layer = MulLayer()\n",
    "\n",
    "# 순전파\n",
    "apple_price = mul_apple_layer.forward(apple, apple_num)\n",
    "price = mul_tax_layer.forward(apple_price, tax)\n",
    "\n",
    "print(price)"
   ]
  }
 ],
 "metadata": {
  "kernelspec": {
   "display_name": "Python 3",
   "language": "python",
   "name": "python3"
  },
  "language_info": {
   "codemirror_mode": {
    "name": "ipython",
    "version": 3
   },
   "file_extension": ".py",
   "mimetype": "text/x-python",
   "name": "python",
   "nbconvert_exporter": "python",
   "pygments_lexer": "ipython3",
   "version": "3.8.5"
  }
 },
 "nbformat": 4,
 "nbformat_minor": 4
}
